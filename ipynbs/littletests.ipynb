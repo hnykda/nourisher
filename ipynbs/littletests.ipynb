{
 "metadata": {
  "name": "",
  "signature": "sha256:ecb1d657341d20ca90d66beb3ed7b12983396e36e45a6c77266f73426feb189d"
 },
 "nbformat": 3,
 "nbformat_minor": 0,
 "worksheets": [
  {
   "cells": [
    {
     "cell_type": "code",
     "collapsed": false,
     "input": [
      "import sys\n",
      "sys.path.append(\"/home/dan/edu/uni/projekty/bs/nourish/nourisher\")"
     ],
     "language": "python",
     "metadata": {},
     "outputs": [],
     "prompt_number": 1
    },
    {
     "cell_type": "code",
     "collapsed": false,
     "input": [
      "from nourisher.manager import MultiScrapper"
     ],
     "language": "python",
     "metadata": {},
     "outputs": [],
     "prompt_number": 2
    },
    {
     "cell_type": "code",
     "collapsed": false,
     "input": [
      "ms = MultiScrapper()"
     ],
     "language": "python",
     "metadata": {},
     "outputs": [],
     "prompt_number": 3
    },
    {
     "cell_type": "code",
     "collapsed": false,
     "input": [
      "ms.fetch_urls(\"/home/dan/prac/bthesis/bthesis-sv/task/data/bad.csv\")\n",
      "ms.fetch_urls(\"/home/dan/prac/bthesis/bthesis-sv/task/data/good.csv\")"
     ],
     "language": "python",
     "metadata": {},
     "outputs": [],
     "prompt_number": 4
    },
    {
     "cell_type": "code",
     "collapsed": false,
     "input": [
      "ms.scrap_data()"
     ],
     "language": "python",
     "metadata": {},
     "outputs": [
      {
       "output_type": "stream",
       "stream": "stdout",
       "text": [
        "\n",
        "Processing 0/200: http://pornoquantum.tumblr.com/rss\n",
        "Parsing links... "
       ]
      },
      {
       "output_type": "stream",
       "stream": "stdout",
       "text": [
        "\n",
        "\r",
        "Parsing link 1/20: http://pornoquantum.tumblr.com/post/106129054658"
       ]
      },
      {
       "output_type": "stream",
       "stream": "stderr",
       "text": [
        "CRITICAL:newspaper.article:jpeg error with PIL, Can't convert 'NoneType' object to str implicitly\n"
       ]
      },
      {
       "output_type": "stream",
       "stream": "stdout",
       "text": [
        "\r",
        "Parsing link 2/20: http://pornoquantum.tumblr.com/post/106099918993/k-i-n-k-y-s-e-x-in-istanbul#_=_"
       ]
      },
      {
       "output_type": "stream",
       "stream": "stdout",
       "text": [
        "\r",
        "Parsing link 3/20: http://pornoquantum.tumblr.com/post/105944210818"
       ]
      },
      {
       "output_type": "stream",
       "stream": "stderr",
       "text": [
        "CRITICAL:newspaper.article:jpeg error with PIL, Can't convert 'NoneType' object to str implicitly\n"
       ]
      },
      {
       "output_type": "stream",
       "stream": "stdout",
       "text": [
        "\r",
        "Parsing link 4/20: http://pornoquantum.tumblr.com/post/105821436713"
       ]
      },
      {
       "output_type": "stream",
       "stream": "stdout",
       "text": [
        "\r",
        "Parsing link 5/20: http://pornoquantum.tumblr.com/post/105760644478/nsfwgifer-more-roxy#_=_"
       ]
      },
      {
       "output_type": "stream",
       "stream": "stdout",
       "text": [
        "\r",
        "Parsing link 6/20: http://pornoquantum.tumblr.com/post/105760639848/cherrypie119-dildo-madness#_=_"
       ]
      },
      {
       "output_type": "stream",
       "stream": "stdout",
       "text": [
        "\r",
        "Parsing link 7/20: http://pornoquantum.tumblr.com/post/105760563968/yourackdisciprine-roxy-raye-ride-em-cowgirl#_=_"
       ]
      },
      {
       "output_type": "stream",
       "stream": "stdout",
       "text": [
        "\r",
        "Parsing link 8/20: http://pornoquantum.tumblr.com/post/105760493868/facialeveryday-roxy-rayes-insertions#_=_"
       ]
      },
      {
       "output_type": "stream",
       "stream": "stdout",
       "text": [
        "\r",
        "Parsing link 9/20: http://pornoquantum.tumblr.com/post/105726411598/thepornaddictproject-hotkinkyjo-check-out-her#_=_"
       ]
      },
      {
       "output_type": "stream",
       "stream": "stdout",
       "text": [
        "\r",
        "Parsing link 10/20: http://pornoquantum.tumblr.com/post/105691102488/softpornmustdie-roxy-raye-ashley-fires#_=_"
       ]
      },
      {
       "output_type": "stream",
       "stream": "stdout",
       "text": [
        "\r",
        "Parsing link 11/20: http://pornoquantum.tumblr.com/post/105690632413"
       ]
      },
      {
       "output_type": "stream",
       "stream": "stdout",
       "text": [
        "\r",
        "Parsing link 12/20: http://pornoquantum.tumblr.com/post/105690627303"
       ]
      },
      {
       "output_type": "stream",
       "stream": "stderr",
       "text": [
        "CRITICAL:newspaper.article:jpeg error with PIL, Can't convert 'NoneType' object to str implicitly\n"
       ]
      },
      {
       "output_type": "stream",
       "stream": "stdout",
       "text": [
        "\r",
        "Parsing link 13/20: http://pornoquantum.tumblr.com/post/105690622988/keepitsecretforonce-the-best-of#_=_"
       ]
      },
      {
       "output_type": "stream",
       "stream": "stdout",
       "text": [
        "\r",
        "Parsing link 14/20: http://pornoquantum.tumblr.com/post/105690616233"
       ]
      },
      {
       "output_type": "stream",
       "stream": "stdout",
       "text": [
        "\r",
        "Parsing link 15/20: http://pornoquantum.tumblr.com/post/105690587463"
       ]
      },
      {
       "output_type": "stream",
       "stream": "stdout",
       "text": [
        "\r",
        "Parsing link 16/20: http://pornoquantum.tumblr.com/post/105690578048/drstinkfingertoo-annette-is-all-class#_=_"
       ]
      },
      {
       "output_type": "stream",
       "stream": "stdout",
       "text": [
        "\r",
        "Parsing link 17/20: http://pornoquantum.tumblr.com/post/105690565843"
       ]
      },
      {
       "output_type": "stream",
       "stream": "stdout",
       "text": [
        "\r",
        "Parsing link 18/20: http://pornoquantum.tumblr.com/post/105690549028/freakydeakygifs-annette-schwarz-doing-what-she#_=_"
       ]
      },
      {
       "output_type": "stream",
       "stream": "stdout",
       "text": [
        "\r",
        "Parsing link 19/20: http://pornoquantum.tumblr.com/post/105690535058/dirtykarissa-annette-schwarz-the-pisswhore#_=_"
       ]
      },
      {
       "output_type": "stream",
       "stream": "stderr",
       "text": [
        "CRITICAL:newspaper.article:jpeg error with PIL, Can't convert 'NoneType' object to str implicitly\n"
       ]
      },
      {
       "output_type": "stream",
       "stream": "stdout",
       "text": [
        "\r",
        "Parsing link 20/20: http://pornoquantum.tumblr.com/post/105690526098"
       ]
      },
      {
       "output_type": "stream",
       "stream": "stdout",
       "text": [
        "\n",
        "Number of parsed articles: 20"
       ]
      }
     ]
    },
    {
     "cell_type": "code",
     "collapsed": false,
     "input": [],
     "language": "python",
     "metadata": {},
     "outputs": []
    }
   ],
   "metadata": {}
  }
 ]
}
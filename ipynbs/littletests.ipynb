{
 "metadata": {
  "name": "",
  "signature": "sha256:a34b6a368715af89d3a49610046edc0b2e3559a81628413a3140de2be75e1a68"
 },
 "nbformat": 3,
 "nbformat_minor": 0,
 "worksheets": [
  {
   "cells": [
    {
     "cell_type": "code",
     "collapsed": false,
     "input": [
      "import sys\n",
      "sys.path.append(\"/home/dan/edu/uni/projekty/bs/nourish/nourisher\")"
     ],
     "language": "python",
     "metadata": {},
     "outputs": [],
     "prompt_number": 1
    },
    {
     "cell_type": "code",
     "collapsed": false,
     "input": [
      "from nourisher.manager import MultiScrapper"
     ],
     "language": "python",
     "metadata": {},
     "outputs": [],
     "prompt_number": 2
    },
    {
     "cell_type": "code",
     "collapsed": false,
     "input": [
      "ms = MultiScrapper()"
     ],
     "language": "python",
     "metadata": {},
     "outputs": [],
     "prompt_number": 3
    },
    {
     "cell_type": "code",
     "collapsed": false,
     "input": [
      "ms.fetch_urls(\"/home/dan/prac/bthesis/bthesis-sv/task/data/bad.csv\")\n",
      "ms.fetch_urls(\"/home/dan/prac/bthesis/bthesis-sv/task/data/good.csv\")"
     ],
     "language": "python",
     "metadata": {},
     "outputs": [],
     "prompt_number": 4
    },
    {
     "cell_type": "code",
     "collapsed": false,
     "input": [
      "ms.scrap_data()"
     ],
     "language": "python",
     "metadata": {},
     "outputs": [
      {
       "output_type": "stream",
       "stream": "stdout",
       "text": [
        "\n",
        "Processing 0/200: http://pornoquantum.tumblr.com/rss\n",
        "Parsing links... "
       ]
      },
      {
       "output_type": "stream",
       "stream": "stdout",
       "text": [
        "\n",
        "\r",
        "Parsing link 1/20: http://pornoquantum.tumblr.com/post/106129054658"
       ]
      },
      {
       "output_type": "stream",
       "stream": "stderr",
       "text": [
        "CRITICAL:newspaper.article:jpeg error with PIL, Can't convert 'NoneType' object to str implicitly\n"
       ]
      },
      {
       "output_type": "stream",
       "stream": "stdout",
       "text": [
        "\r",
        "Parsing link 2/20: http://pornoquantum.tumblr.com/post/106099918993/k-i-n-k-y-s-e-x-in-istanbul#_=_"
       ]
      },
      {
       "output_type": "stream",
       "stream": "stdout",
       "text": [
        "\r",
        "Parsing link 3/20: http://pornoquantum.tumblr.com/post/105944210818"
       ]
      },
      {
       "output_type": "stream",
       "stream": "stderr",
       "text": [
        "CRITICAL:newspaper.article:jpeg error with PIL, Can't convert 'NoneType' object to str implicitly\n"
       ]
      },
      {
       "output_type": "stream",
       "stream": "stdout",
       "text": [
        "\r",
        "Parsing link 4/20: http://pornoquantum.tumblr.com/post/105821436713"
       ]
      },
      {
       "output_type": "stream",
       "stream": "stdout",
       "text": [
        "\r",
        "Parsing link 5/20: http://pornoquantum.tumblr.com/post/105760644478/nsfwgifer-more-roxy#_=_"
       ]
      },
      {
       "output_type": "stream",
       "stream": "stdout",
       "text": [
        "\r",
        "Parsing link 6/20: http://pornoquantum.tumblr.com/post/105760639848/cherrypie119-dildo-madness#_=_"
       ]
      },
      {
       "output_type": "stream",
       "stream": "stdout",
       "text": [
        "\r",
        "Parsing link 7/20: http://pornoquantum.tumblr.com/post/105760563968/yourackdisciprine-roxy-raye-ride-em-cowgirl#_=_"
       ]
      },
      {
       "output_type": "stream",
       "stream": "stdout",
       "text": [
        "\r",
        "Parsing link 8/20: http://pornoquantum.tumblr.com/post/105760493868/facialeveryday-roxy-rayes-insertions#_=_"
       ]
      },
      {
       "output_type": "stream",
       "stream": "stdout",
       "text": [
        "\r",
        "Parsing link 9/20: http://pornoquantum.tumblr.com/post/105726411598/thepornaddictproject-hotkinkyjo-check-out-her#_=_"
       ]
      },
      {
       "output_type": "stream",
       "stream": "stdout",
       "text": [
        "\r",
        "Parsing link 10/20: http://pornoquantum.tumblr.com/post/105691102488/softpornmustdie-roxy-raye-ashley-fires#_=_"
       ]
      },
      {
       "output_type": "stream",
       "stream": "stdout",
       "text": [
        "\r",
        "Parsing link 11/20: http://pornoquantum.tumblr.com/post/105690632413"
       ]
      },
      {
       "output_type": "stream",
       "stream": "stdout",
       "text": [
        "\r",
        "Parsing link 12/20: http://pornoquantum.tumblr.com/post/105690627303"
       ]
      },
      {
       "output_type": "stream",
       "stream": "stderr",
       "text": [
        "CRITICAL:newspaper.article:jpeg error with PIL, Can't convert 'NoneType' object to str implicitly\n"
       ]
      },
      {
       "output_type": "stream",
       "stream": "stdout",
       "text": [
        "\r",
        "Parsing link 13/20: http://pornoquantum.tumblr.com/post/105690622988/keepitsecretforonce-the-best-of#_=_"
       ]
      },
      {
       "output_type": "stream",
       "stream": "stdout",
       "text": [
        "\r",
        "Parsing link 14/20: http://pornoquantum.tumblr.com/post/105690616233"
       ]
      },
      {
       "output_type": "stream",
       "stream": "stdout",
       "text": [
        "\r",
        "Parsing link 15/20: http://pornoquantum.tumblr.com/post/105690587463"
       ]
      },
      {
       "output_type": "stream",
       "stream": "stdout",
       "text": [
        "\r",
        "Parsing link 16/20: http://pornoquantum.tumblr.com/post/105690578048/drstinkfingertoo-annette-is-all-class#_=_"
       ]
      },
      {
       "output_type": "stream",
       "stream": "stdout",
       "text": [
        "\r",
        "Parsing link 17/20: http://pornoquantum.tumblr.com/post/105690565843"
       ]
      },
      {
       "output_type": "stream",
       "stream": "stdout",
       "text": [
        "\r",
        "Parsing link 18/20: http://pornoquantum.tumblr.com/post/105690549028/freakydeakygifs-annette-schwarz-doing-what-she#_=_"
       ]
      },
      {
       "output_type": "stream",
       "stream": "stdout",
       "text": [
        "\r",
        "Parsing link 19/20: http://pornoquantum.tumblr.com/post/105690535058/dirtykarissa-annette-schwarz-the-pisswhore#_=_"
       ]
      },
      {
       "output_type": "stream",
       "stream": "stderr",
       "text": [
        "CRITICAL:newspaper.article:jpeg error with PIL, Can't convert 'NoneType' object to str implicitly\n"
       ]
      },
      {
       "output_type": "stream",
       "stream": "stdout",
       "text": [
        "\r",
        "Parsing link 20/20: http://pornoquantum.tumblr.com/post/105690526098"
       ]
      },
      {
       "output_type": "stream",
       "stream": "stdout",
       "text": [
        "\n",
        "Number of parsed articles: 20"
       ]
      },
      {
       "output_type": "stream",
       "stream": "stdout",
       "text": [
        "\n",
        "feedInfo collected.\n",
        "Alexa thinks that the maternal URL is: www.pornoquantum.tumblr.com"
       ]
      },
      {
       "output_type": "stream",
       "stream": "stdout",
       "text": [
        "\n",
        "\r",
        "Trying to get data for www.pornoquantum.tumblr.com by websiteout\n",
        "No data from this scrapper."
       ]
      },
      {
       "output_type": "stream",
       "stream": "stdout",
       "text": [
        "\n",
        "\n",
        "Not successful.\n",
        "\r",
        "Trying to get data for www.pornoquantum.tumblr.com by alexa\n",
        "No data from this scrapper."
       ]
      },
      {
       "output_type": "stream",
       "stream": "stdout",
       "text": [
        "\n",
        "\n",
        "Not successful.\n",
        "\r",
        "Trying to get data for www.pornoquantum.tumblr.com by ranks\n",
        "Not successful."
       ]
      },
      {
       "output_type": "stream",
       "stream": "stdout",
       "text": [
        "\n",
        "\r",
        "Trying to get data for www.pornoquantum.tumblr.com by urlm\n",
        "No data from this scrapper."
       ]
      },
      {
       "output_type": "stream",
       "stream": "stdout",
       "text": [
        "\n",
        "\n",
        "Not successful.\n",
        "Saving to testdb database, feeds collection under ObjectID: "
       ]
      },
      {
       "output_type": "stream",
       "stream": "stdout",
       "text": [
        "\n",
        "549c64cff4734f44559a7c88\n",
        "Looking in testdb database, feeds collection under ObjectID: 549c64cff4734f44559a7c88\n",
        "Data retrieved for 549c64cff4734f44559a7c88\n",
        "Data have been cleaned.\n",
        "{'ok': 1, 'updatedExisting': True, 'n': 1, 'nModified': 1}\n",
        "It tooks: 117.87511324882507 seconds. \n",
        "---------------\n",
        "\n",
        "\n",
        "Processing 1/200: http://chroniclesofporniablog.com/comments/feed/"
       ]
      },
      {
       "output_type": "stream",
       "stream": "stdout",
       "text": [
        "\n",
        "Parsing links... "
       ]
      },
      {
       "output_type": "stream",
       "stream": "stdout",
       "text": [
        "\n",
        "\r",
        "Parsing link 1/25: http://chroniclesofporniablog.com/2014/12/13/cockyboys-exclusive-tayte-hanson-cuts-hair-goes-method-for-upcoming-answered-prayers-the-actor/#comment-37971"
       ]
      },
      {
       "output_type": "stream",
       "stream": "stdout",
       "text": [
        "\r",
        "Parsing link 2/25: http://chroniclesofporniablog.com/2014/11/12/squirtz-videoboys-cockyboys-get-your-gunn/#comment-35790"
       ]
      },
      {
       "output_type": "stream",
       "stream": "stdout",
       "text": [
        "\r",
        "Parsing link 3/25: http://chroniclesofporniablog.com/2014/11/03/seamus-oreillys-fire-stick-next-door-twink/#comment-34712"
       ]
      },
      {
       "output_type": "stream",
       "stream": "stdout",
       "text": [
        "\r",
        "Parsing link 4/25: http://chroniclesofporniablog.com/2014/10/15/the-4-horny-helix-studios-newcomers-vying-for-porndom-davey-brooks-tyler-hill-bastian-hart-troy-ryan/#comment-32811"
       ]
      },
      {
       "output_type": "stream",
       "stream": "stdout",
       "text": [
        "\r",
        "Parsing link 5/25: http://chroniclesofporniablog.com/2014/10/15/the-4-horny-helix-studios-newcomers-vying-for-porndom-davey-brooks-tyler-hill-bastian-hart-troy-ryan/#comment-32736"
       ]
      },
      {
       "output_type": "stream",
       "stream": "stdout",
       "text": [
        "\r",
        "Parsing link 6/25: http://chroniclesofporniablog.com/2014/10/13/take-a-cock-run-in-damien-gunn-squirtz/#comment-32499"
       ]
      },
      {
       "output_type": "stream",
       "stream": "stdout",
       "text": [
        "\r",
        "Parsing link 7/25: http://chroniclesofporniablog.com/2014/06/17/how-many-twink-inches-can-satisfy-you-jacob-dixon-dustin-gold-helix-studios/#comment-31082"
       ]
      },
      {
       "output_type": "stream",
       "stream": "stdout",
       "text": [
        "\r",
        "Parsing link 8/25: http://chroniclesofporniablog.com/2013/01/25/trailer-jet-set-mens-sleepers/#comment-30076"
       ]
      },
      {
       "output_type": "stream",
       "stream": "stdout",
       "text": [
        "\r",
        "Parsing link 9/25: http://chroniclesofporniablog.com/2014/08/14/brandon-jones-ravages-ravishes-william-boyd-cockyboys/#comment-29680"
       ]
      },
      {
       "output_type": "stream",
       "stream": "stdout",
       "text": [
        "\r",
        "Parsing link 10/25: http://chroniclesofporniablog.com/2014/03/29/jamie-sanders-sure-does-fill-out-ass-less-undies-helix-studios/#comment-29241"
       ]
      },
      {
       "output_type": "stream",
       "stream": "stdout",
       "text": [
        "\r",
        "Parsing link 11/25: http://chroniclesofporniablog.com/2013/12/02/24-model-orgy-cum-blast-plus-adam-archuleta-reams-out-claude-sorel-bel-ami/#comment-28279"
       ]
      },
      {
       "output_type": "stream",
       "stream": "stdout",
       "text": [
        "\r",
        "Parsing link 12/25: http://chroniclesofporniablog.com/2014/07/28/its-always-the-choirboy-eurocreme/#comment-26235"
       ]
      },
      {
       "output_type": "stream",
       "stream": "stdout",
       "text": [
        "\r",
        "Parsing link 13/25: http://chroniclesofporniablog.com/2014/07/29/kyle-ross-prodigal-blond-power-bottom-helix-studios/#comment-26127"
       ]
      },
      {
       "output_type": "stream",
       "stream": "stdout",
       "text": [
        "\r",
        "Parsing link 14/25: http://chroniclesofporniablog.com/2014/07/14/what-makes-armond-rizzo-so-darn-hot/#comment-25708"
       ]
      },
      {
       "output_type": "stream",
       "stream": "stdout",
       "text": [
        "\r",
        "Parsing link 15/25: http://chroniclesofporniablog.com/2014/06/19/preview-cockyboys-answered-prayers-the-lamb-is-gay-mob-tale-opera-ala-shakespeare/#comment-24755"
       ]
      },
      {
       "output_type": "stream",
       "stream": "stdout",
       "text": [
        "\r",
        "Parsing link 16/25: http://chroniclesofporniablog.com/2014/06/19/preview-cockyboys-answered-prayers-the-lamb-is-gay-mob-tale-opera-ala-shakespeare/#comment-24723"
       ]
      },
      {
       "output_type": "stream",
       "stream": "stdout",
       "text": [
        "\r",
        "Parsing link 17/25: http://chroniclesofporniablog.com/2014/06/17/in-memorial-rest-in-power-cameron-fox-1977-2014/#comment-24699"
       ]
      },
      {
       "output_type": "stream",
       "stream": "stdout",
       "text": [
        "\r",
        "Parsing link 18/25: http://chroniclesofporniablog.com/2014/06/17/in-memorial-rest-in-power-cameron-fox-1977-2014/#comment-24603"
       ]
      },
      {
       "output_type": "stream",
       "stream": "stdout",
       "text": [
        "\r",
        "Parsing link 19/25: http://chroniclesofporniablog.com/2014/06/17/in-memorial-rest-in-power-cameron-fox-1977-2014/#comment-24561"
       ]
      },
      {
       "output_type": "stream",
       "stream": "stdout",
       "text": [
        "\r",
        "Parsing link 20/25: http://chroniclesofporniablog.com/2014/06/14/declan-brookes-is-jock-hung-bel-ami/#comment-24459"
       ]
      },
      {
       "output_type": "stream",
       "stream": "stdout",
       "text": [
        "\r",
        "Parsing link 21/25: http://chroniclesofporniablog.com/2014/06/03/how-many-times-have-we-loved-casey-tanner-helix-academy-dvd-contest/#comment-18253"
       ]
      },
      {
       "output_type": "stream",
       "stream": "stdout",
       "text": [
        "\r",
        "Parsing link 22/25: http://chroniclesofporniablog.com/2014/05/30/kayden-gray-axel-pierce-pummel-power-too-hardbritlads/#comment-15551"
       ]
      },
      {
       "output_type": "stream",
       "stream": "stdout",
       "text": [
        "\r",
        "Parsing link 23/25: http://chroniclesofporniablog.com/2014/05/20/ryker-madison-sage-porter-riding-twinks-in-cars-helix-studios/#comment-13771"
       ]
      },
      {
       "output_type": "stream",
       "stream": "stdout",
       "text": [
        "\r",
        "Parsing link 24/25: http://chroniclesofporniablog.com/2014/05/10/trailer-raging-stallion-studios-san-francisco-meat-packers-part-2/#comment-11614"
       ]
      }
     ]
    },
    {
     "cell_type": "code",
     "collapsed": false,
     "input": [],
     "language": "python",
     "metadata": {},
     "outputs": []
    }
   ],
   "metadata": {}
  }
 ]
}
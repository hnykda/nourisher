{
 "metadata": {
  "name": "",
  "signature": "sha256:f0f3c8a0bfd0ad78aa3a3dad0ad38e1f59f95aad3a64600f554f4984ad850dd7"
 },
 "nbformat": 3,
 "nbformat_minor": 0,
 "worksheets": [
  {
   "cells": [
    {
     "cell_type": "code",
     "collapsed": false,
     "input": [
      "import sys\n",
      "sys.path.append(\"/home/dan/edu/uni/projekty/bs/nourish/nourisher\")\n",
      "import time\n",
      "import traceback\n",
      "from nourisher.nourisher import Nourisher\n",
      "from nourisher import settings\n",
      "settings.get_setings()"
     ],
     "language": "python",
     "metadata": {},
     "outputs": [
      {
       "output_type": "stream",
       "stream": "stdout",
       "text": [
        "feeds 5432 localhost testdb phantomjs 1\n"
       ]
      }
     ],
     "prompt_number": 1
    },
    {
     "cell_type": "code",
     "collapsed": false,
     "input": [
      "#settings.DEFAULT_DRIVER = \"phantomjsTOR\"\n",
      "settings.DB_COLLECTION = \"pokus\"\n",
      "settings.VERBOSITY = 1\n",
      "settings.get_setings()"
     ],
     "language": "python",
     "metadata": {},
     "outputs": [
      {
       "output_type": "stream",
       "stream": "stdout",
       "text": [
        "pokus 5432 localhost testdb phantomjs 1\n"
       ]
      }
     ],
     "prompt_number": 2
    },
    {
     "cell_type": "code",
     "collapsed": false,
     "input": [
      "with open(\"/home/dan/prac/bthesis/bthesis-sv/task/data/bad.csv\") as ifile:\n",
      "    b = ifile.readlines()\n",
      "    bp = [line.split(\"\\n\")[0] for line in b]\n",
      "    \n",
      "with open(\"/home/dan/prac/bthesis/bthesis-sv/task/data/good.csv\") as ifile:\n",
      "    g = ifile.readlines()\n",
      "    gp = [line.split(\"\\n\")[0] for line in b]\n",
      "    \n",
      "allTog = bp + gp"
     ],
     "language": "python",
     "metadata": {},
     "outputs": [],
     "prompt_number": 3
    },
    {
     "cell_type": "code",
     "collapsed": false,
     "input": [
      "spatne = []\n",
      "dobre = []\n",
      "for feedURL in allTog[26:]:\n",
      "    now = time.time()\n",
      "    print(\"Beru: \", feedURL)\n",
      "    try:\n",
      "        nour = Nourisher(feedURL)\n",
      "        nour.collect_all()\n",
      "        nour.retrieve_data()\n",
      "        nour.clean_data()\n",
      "        nour.add_to_object_db(\"cleaned\", nour.dataCleaned)\n",
      "        dobre.append(feedURL)\n",
      "    except:\n",
      "        print(sys.exc_info())\n",
      "        tracb = traceback.format_exc()\n",
      "        print(tracb)\n",
      "        spatne.append((feedURL, tracb))\n",
      "    print(\"Zabralo to:\", time.time() - now, \"sekund.\\n----------\\n\")"
     ],
     "language": "python",
     "metadata": {},
     "outputs": [
      {
       "output_type": "stream",
       "stream": "stdout",
       "text": [
        "Beru:  http://www.articlesnatch.com/rss2/one-time+offer+to+buy+instagram+followers\n",
        "Parsing links... "
       ]
      },
      {
       "output_type": "stream",
       "stream": "stdout",
       "text": [
        "\n",
        "\r",
        "Parsing link 1/20: http://www.articlesnatch.com/Article/Fundamental-Criteria-Of-Music-Promotion---An-Intro/6547453"
       ]
      },
      {
       "output_type": "stream",
       "stream": "stdout",
       "text": [
        "\n",
        "Error when parsing an article"
       ]
      },
      {
       "output_type": "stream",
       "stream": "stdout",
       "text": [
        "\n",
        "'utf-8' codec can't decode byte 0x80 in position 31: invalid start byte\n",
        "Traceback (most recent call last):\n",
        "  File \"/home/dan/edu/uni/projekty/bs/nourish/nourisher/nourisher/collector/feeder.py\", line 204, in get_entries_info\n",
        "    art.parse()\n",
        "  File \"/home/dan/edu/uni/projekty/bs/nourish/venv/lib/python3.4/site-packages/newspaper/article.py\", line 213, in parse\n",
        "    self.top_node = self.extractor.calculate_best_node(self.doc)\n",
        "  File \"/home/dan/edu/uni/projekty/bs/nourish/venv/lib/python3.4/site-packages/newspaper/extractors.py\", line 598, in calculate_best_node\n",
        "    text_node = self.parser.getText(node)\n",
        "  File \"/home/dan/edu/uni/projekty/bs/nourish/venv/lib/python3.4/site-packages/newspaper/parsers.py\", line 196, in getText\n",
        "    txts = [i for i in node.itertext()]\n",
        "  File \"/home/dan/edu/uni/projekty/bs/nourish/venv/lib/python3.4/site-packages/newspaper/parsers.py\", line 196, in <listcomp>\n",
        "    txts = [i for i in node.itertext()]\n",
        "  File \"lxml.etree.pyx\", line 2804, in lxml.etree.ElementTextIterator.__next__ (src/lxml/lxml.etree.c:65823)\n",
        "  File \"lxml.etree.pyx\", line 947, in lxml.etree._Element.text.__get__ (src/lxml/lxml.etree.c:44862)\n",
        "  File \"apihelpers.pxi\", line 647, in lxml.etree._collectText (src/lxml/lxml.etree.c:20031)\n",
        "  File \"apihelpers.pxi\", line 1361, in lxml.etree.funicode (src/lxml/lxml.etree.c:26130)\n",
        "UnicodeDecodeError: 'utf-8' codec can't decode byte 0x80 in position 31: invalid start byte\n",
        "\n",
        "\r",
        "Parsing link 2/20: http://www.articlesnatch.com/Article/Use-Of-Instagram-For-Business-Growth/6545515"
       ]
      },
      {
       "output_type": "stream",
       "stream": "stderr",
       "text": [
        "CRITICAL:newspaper.article:jpeg error with PIL, Can't convert 'NoneType' object to str implicitly\n"
       ]
      },
      {
       "output_type": "stream",
       "stream": "stdout",
       "text": [
        "\r",
        "Parsing link 3/20: http://www.articlesnatch.com/Article/No-hassle-Desktop-Backgrounds-Plans---An-Introduction/6541278"
       ]
      },
      {
       "output_type": "stream",
       "stream": "stdout",
       "text": [
        "\n",
        "Error when parsing an article"
       ]
      },
      {
       "output_type": "stream",
       "stream": "stdout",
       "text": [
        "\n",
        "'utf-8' codec can't decode byte 0x80 in position 31: invalid start byte\n",
        "Traceback (most recent call last):\n",
        "  File \"/home/dan/edu/uni/projekty/bs/nourish/nourisher/nourisher/collector/feeder.py\", line 204, in get_entries_info\n",
        "    art.parse()\n",
        "  File \"/home/dan/edu/uni/projekty/bs/nourish/venv/lib/python3.4/site-packages/newspaper/article.py\", line 213, in parse\n",
        "    self.top_node = self.extractor.calculate_best_node(self.doc)\n",
        "  File \"/home/dan/edu/uni/projekty/bs/nourish/venv/lib/python3.4/site-packages/newspaper/extractors.py\", line 598, in calculate_best_node\n",
        "    text_node = self.parser.getText(node)\n",
        "  File \"/home/dan/edu/uni/projekty/bs/nourish/venv/lib/python3.4/site-packages/newspaper/parsers.py\", line 196, in getText\n",
        "    txts = [i for i in node.itertext()]\n",
        "  File \"/home/dan/edu/uni/projekty/bs/nourish/venv/lib/python3.4/site-packages/newspaper/parsers.py\", line 196, in <listcomp>\n",
        "    txts = [i for i in node.itertext()]\n",
        "  File \"lxml.etree.pyx\", line 2804, in lxml.etree.ElementTextIterator.__next__ (src/lxml/lxml.etree.c:65823)\n",
        "  File \"lxml.etree.pyx\", line 947, in lxml.etree._Element.text.__get__ (src/lxml/lxml.etree.c:44862)\n",
        "  File \"apihelpers.pxi\", line 647, in lxml.etree._collectText (src/lxml/lxml.etree.c:20031)\n",
        "  File \"apihelpers.pxi\", line 1361, in lxml.etree.funicode (src/lxml/lxml.etree.c:26130)\n",
        "UnicodeDecodeError: 'utf-8' codec can't decode byte 0x80 in position 31: invalid start byte\n",
        "\n",
        "\r",
        "Parsing link 4/20: http://www.articlesnatch.com/Article/Revealing-Swift-Advice-Of-Desktop-Backgrounds/6541269"
       ]
      },
      {
       "output_type": "stream",
       "stream": "stdout",
       "text": [
        "\n",
        "Error when parsing an article"
       ]
      },
      {
       "output_type": "stream",
       "stream": "stdout",
       "text": [
        "\n",
        "'utf-8' codec can't decode byte 0x80 in position 31: invalid start byte\n",
        "Traceback (most recent call last):\n",
        "  File \"/home/dan/edu/uni/projekty/bs/nourish/nourisher/nourisher/collector/feeder.py\", line 204, in get_entries_info\n",
        "    art.parse()\n",
        "  File \"/home/dan/edu/uni/projekty/bs/nourish/venv/lib/python3.4/site-packages/newspaper/article.py\", line 213, in parse\n",
        "    self.top_node = self.extractor.calculate_best_node(self.doc)\n",
        "  File \"/home/dan/edu/uni/projekty/bs/nourish/venv/lib/python3.4/site-packages/newspaper/extractors.py\", line 598, in calculate_best_node\n",
        "    text_node = self.parser.getText(node)\n",
        "  File \"/home/dan/edu/uni/projekty/bs/nourish/venv/lib/python3.4/site-packages/newspaper/parsers.py\", line 196, in getText\n",
        "    txts = [i for i in node.itertext()]\n",
        "  File \"/home/dan/edu/uni/projekty/bs/nourish/venv/lib/python3.4/site-packages/newspaper/parsers.py\", line 196, in <listcomp>\n",
        "    txts = [i for i in node.itertext()]\n",
        "  File \"lxml.etree.pyx\", line 2804, in lxml.etree.ElementTextIterator.__next__ (src/lxml/lxml.etree.c:65823)\n",
        "  File \"lxml.etree.pyx\", line 947, in lxml.etree._Element.text.__get__ (src/lxml/lxml.etree.c:44862)\n",
        "  File \"apihelpers.pxi\", line 647, in lxml.etree._collectText (src/lxml/lxml.etree.c:20031)\n",
        "  File \"apihelpers.pxi\", line 1361, in lxml.etree.funicode (src/lxml/lxml.etree.c:26130)\n",
        "UnicodeDecodeError: 'utf-8' codec can't decode byte 0x80 in position 31: invalid start byte\n",
        "\n",
        "\r",
        "Parsing link 5/20: http://www.articlesnatch.com/Article/Convenient-Desktop-Backgrounds-Systems-Described/6541189"
       ]
      },
      {
       "output_type": "stream",
       "stream": "stdout",
       "text": [
        "\n",
        "Error when parsing an article"
       ]
      },
      {
       "output_type": "stream",
       "stream": "stdout",
       "text": [
        "\n",
        "'utf-8' codec can't decode byte 0x80 in position 31: invalid start byte\n",
        "Traceback (most recent call last):\n",
        "  File \"/home/dan/edu/uni/projekty/bs/nourish/nourisher/nourisher/collector/feeder.py\", line 204, in get_entries_info\n",
        "    art.parse()\n",
        "  File \"/home/dan/edu/uni/projekty/bs/nourish/venv/lib/python3.4/site-packages/newspaper/article.py\", line 213, in parse\n",
        "    self.top_node = self.extractor.calculate_best_node(self.doc)\n",
        "  File \"/home/dan/edu/uni/projekty/bs/nourish/venv/lib/python3.4/site-packages/newspaper/extractors.py\", line 598, in calculate_best_node\n",
        "    text_node = self.parser.getText(node)\n",
        "  File \"/home/dan/edu/uni/projekty/bs/nourish/venv/lib/python3.4/site-packages/newspaper/parsers.py\", line 196, in getText\n",
        "    txts = [i for i in node.itertext()]\n",
        "  File \"/home/dan/edu/uni/projekty/bs/nourish/venv/lib/python3.4/site-packages/newspaper/parsers.py\", line 196, in <listcomp>\n",
        "    txts = [i for i in node.itertext()]\n",
        "  File \"lxml.etree.pyx\", line 2804, in lxml.etree.ElementTextIterator.__next__ (src/lxml/lxml.etree.c:65823)\n",
        "  File \"lxml.etree.pyx\", line 947, in lxml.etree._Element.text.__get__ (src/lxml/lxml.etree.c:44862)\n",
        "  File \"apihelpers.pxi\", line 647, in lxml.etree._collectText (src/lxml/lxml.etree.c:20031)\n",
        "  File \"apihelpers.pxi\", line 1361, in lxml.etree.funicode (src/lxml/lxml.etree.c:26130)\n",
        "UnicodeDecodeError: 'utf-8' codec can't decode byte 0x80 in position 31: invalid start byte\n",
        "\n",
        "\r",
        "Parsing link 6/20: http://www.articlesnatch.com/Article/Checking-Out-Tips-Of-Buy-Instagram-Likes/6500494"
       ]
      },
      {
       "output_type": "stream",
       "stream": "stdout",
       "text": [
        "\n",
        "Error when parsing an article"
       ]
      },
      {
       "output_type": "stream",
       "stream": "stdout",
       "text": [
        "\n",
        "'utf-8' codec can't decode byte 0x80 in position 31: invalid start byte\n",
        "Traceback (most recent call last):\n",
        "  File \"/home/dan/edu/uni/projekty/bs/nourish/nourisher/nourisher/collector/feeder.py\", line 204, in get_entries_info\n",
        "    art.parse()\n",
        "  File \"/home/dan/edu/uni/projekty/bs/nourish/venv/lib/python3.4/site-packages/newspaper/article.py\", line 213, in parse\n",
        "    self.top_node = self.extractor.calculate_best_node(self.doc)\n",
        "  File \"/home/dan/edu/uni/projekty/bs/nourish/venv/lib/python3.4/site-packages/newspaper/extractors.py\", line 598, in calculate_best_node\n",
        "    text_node = self.parser.getText(node)\n",
        "  File \"/home/dan/edu/uni/projekty/bs/nourish/venv/lib/python3.4/site-packages/newspaper/parsers.py\", line 196, in getText\n",
        "    txts = [i for i in node.itertext()]\n",
        "  File \"/home/dan/edu/uni/projekty/bs/nourish/venv/lib/python3.4/site-packages/newspaper/parsers.py\", line 196, in <listcomp>\n",
        "    txts = [i for i in node.itertext()]\n",
        "  File \"lxml.etree.pyx\", line 2804, in lxml.etree.ElementTextIterator.__next__ (src/lxml/lxml.etree.c:65823)\n",
        "  File \"lxml.etree.pyx\", line 947, in lxml.etree._Element.text.__get__ (src/lxml/lxml.etree.c:44862)\n",
        "  File \"apihelpers.pxi\", line 647, in lxml.etree._collectText (src/lxml/lxml.etree.c:20031)\n",
        "  File \"apihelpers.pxi\", line 1361, in lxml.etree.funicode (src/lxml/lxml.etree.c:26130)\n",
        "UnicodeDecodeError: 'utf-8' codec can't decode byte 0x80 in position 31: invalid start byte\n",
        "\n",
        "\r",
        "Parsing link 7/20: http://www.articlesnatch.com/Article/Purchasing-Real-Estate-With-Zero-Down/6455017"
       ]
      },
      {
       "output_type": "stream",
       "stream": "stderr",
       "text": [
        "CRITICAL:newspaper.article:jpeg error with PIL, Can't convert 'NoneType' object to str implicitly\n"
       ]
      },
      {
       "output_type": "stream",
       "stream": "stdout",
       "text": [
        "\r",
        "Parsing link 8/20: http://www.articlesnatch.com/Article/Buy-Real-Facebook-Fans/6452575"
       ]
      },
      {
       "output_type": "stream",
       "stream": "stderr",
       "text": [
        "CRITICAL:newspaper.article:jpeg error with PIL, Can't convert 'NoneType' object to str implicitly\n"
       ]
      },
      {
       "output_type": "stream",
       "stream": "stdout",
       "text": [
        "\r",
        "Parsing link 9/20: http://www.articlesnatch.com/Article/Real-Time-Leads---Do-You-Them--Or-Do-It-Yourself-/6451316"
       ]
      },
      {
       "output_type": "stream",
       "stream": "stderr",
       "text": [
        "CRITICAL:newspaper.article:jpeg error with PIL, Can't convert 'NoneType' object to str implicitly\n"
       ]
      },
      {
       "output_type": "stream",
       "stream": "stdout",
       "text": [
        "\r",
        "Parsing link 10/20: http://www.articlesnatch.com/Article/It-s-Crazy-Time-In-Real-Estate/6451315"
       ]
      },
      {
       "output_type": "stream",
       "stream": "stderr",
       "text": [
        "CRITICAL:newspaper.article:jpeg error with PIL, Can't convert 'NoneType' object to str implicitly\n"
       ]
      },
      {
       "output_type": "stream",
       "stream": "stdout",
       "text": [
        "\r",
        "Parsing link 11/20: http://www.articlesnatch.com/Article/How-Acquire-Real-Estate-With-Minimum-No-Money/6449970"
       ]
      },
      {
       "output_type": "stream",
       "stream": "stderr",
       "text": [
        "CRITICAL:newspaper.article:jpeg error with PIL, Can't convert 'NoneType' object to str implicitly\n"
       ]
      },
      {
       "output_type": "stream",
       "stream": "stdout",
       "text": [
        "\r",
        "Parsing link 12/20: http://www.articlesnatch.com/Article/Real-Estate-Tips---Choosing-The-Suitable-House-For-Your-Very-Own-Needs/6449640"
       ]
      },
      {
       "output_type": "stream",
       "stream": "stderr",
       "text": [
        "CRITICAL:newspaper.article:jpeg error with PIL, Can't convert 'NoneType' object to str implicitly\n"
       ]
      },
      {
       "output_type": "stream",
       "stream": "stdout",
       "text": [
        "\r",
        "Parsing link 13/20: http://www.articlesnatch.com/Article/Foreclosure-Investing-101/6449346"
       ]
      },
      {
       "output_type": "stream",
       "stream": "stderr",
       "text": [
        "CRITICAL:newspaper.article:jpeg error with PIL, Can't convert 'NoneType' object to str implicitly\n"
       ]
      },
      {
       "output_type": "stream",
       "stream": "stdout",
       "text": [
        "\r",
        "Parsing link 14/20: http://www.articlesnatch.com/Article/Function-Technique-To-Found-Out-100--Real-Nike-Air-Max-Footlocker/6448392"
       ]
      },
      {
       "output_type": "stream",
       "stream": "stderr",
       "text": [
        "CRITICAL:newspaper.article:jpeg error with PIL, Can't convert 'NoneType' object to str implicitly\n"
       ]
      },
      {
       "output_type": "stream",
       "stream": "stdout",
       "text": [
        "\r",
        "Parsing link 15/20: http://www.articlesnatch.com/Article/Commercial-Industry-Financing-With-Interest-Rates-Under-6--/6447965"
       ]
      },
      {
       "output_type": "stream",
       "stream": "stderr",
       "text": [
        "CRITICAL:newspaper.article:jpeg error with PIL, Can't convert 'NoneType' object to str implicitly\n"
       ]
      },
      {
       "output_type": "stream",
       "stream": "stdout",
       "text": [
        "\r",
        "Parsing link 16/20: http://www.articlesnatch.com/Article/Is-It-Time-Provide-Your-Marketplace-In-Bend--Oregon-/6446823"
       ]
      },
      {
       "output_type": "stream",
       "stream": "stderr",
       "text": [
        "CRITICAL:newspaper.article:jpeg error with PIL, Can't convert 'NoneType' object to str implicitly\n"
       ]
      },
      {
       "output_type": "stream",
       "stream": "stdout",
       "text": [
        "\r",
        "Parsing link 17/20: http://www.articlesnatch.com/Article/Buy-Souvenir-Jewelry-And-Wear-Your-Memories-All-Climates-And-Seasons-Round/6444661"
       ]
      },
      {
       "output_type": "stream",
       "stream": "stderr",
       "text": [
        "CRITICAL:newspaper.article:jpeg error with PIL, Can't convert 'NoneType' object to str implicitly\n"
       ]
      },
      {
       "output_type": "stream",
       "stream": "stdout",
       "text": [
        "\r",
        "Parsing link 18/20: http://www.articlesnatch.com/Article/Real-Estate-Investing-Within-The-Current-Market/6442855"
       ]
      },
      {
       "output_type": "stream",
       "stream": "stderr",
       "text": [
        "CRITICAL:newspaper.article:jpeg error with PIL, Can't convert 'NoneType' object to str implicitly\n"
       ]
      },
      {
       "output_type": "stream",
       "stream": "stdout",
       "text": [
        "\r",
        "Parsing link 19/20: http://www.articlesnatch.com/Article/Commercial-Marketplace---Four-Crucial-Steps-To-Ensure-A-Profitable-Investment/6441901"
       ]
      },
      {
       "output_type": "stream",
       "stream": "stderr",
       "text": [
        "CRITICAL:newspaper.article:jpeg error with PIL, Can't convert 'NoneType' object to str implicitly\n"
       ]
      },
      {
       "output_type": "stream",
       "stream": "stdout",
       "text": [
        "\r",
        "Parsing link 20/20: http://www.articlesnatch.com/Article/Getting-Entered-Real-Estate/6441017"
       ]
      },
      {
       "output_type": "stream",
       "stream": "stderr",
       "text": [
        "CRITICAL:newspaper.article:jpeg error with PIL, Can't convert 'NoneType' object to str implicitly\n"
       ]
      },
      {
       "output_type": "stream",
       "stream": "stdout",
       "text": [
        "Number of parsed articles: "
       ]
      }
     ]
    },
    {
     "cell_type": "code",
     "collapsed": false,
     "input": [],
     "language": "python",
     "metadata": {},
     "outputs": []
    }
   ],
   "metadata": {}
  }
 ]
}
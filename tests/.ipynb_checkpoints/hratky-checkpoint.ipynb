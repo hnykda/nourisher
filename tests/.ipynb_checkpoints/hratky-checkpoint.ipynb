{
 "metadata": {
  "name": "",
  "signature": "sha256:d7af8bcb0657747e096b7b5f66ec9fc34f4d657f4d2477e324c3a03bbba6a530"
 },
 "nbformat": 3,
 "nbformat_minor": 0,
 "worksheets": []
}